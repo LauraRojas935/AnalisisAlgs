{
 "cells": [
  {
   "cell_type": "markdown",
   "metadata": {},
   "source": [
    "<h1>Análisando algoritmos de ordenamiento</h1>"
   ]
  },
  {
   "cell_type": "code",
   "execution_count": 2,
   "metadata": {
    "collapsed": true
   },
   "outputs": [],
   "source": [
    "import math\n",
    "import numpy as np\n",
    "import pylab as pl\n",
    "%matplotlib inline"
   ]
  },
  {
   "cell_type": "markdown",
   "metadata": {},
   "source": [
    "<h2>Problema de ordenamiento</h2>\n",
    "\n",
    "Input:  $A[1..n] = <a_1,a_2\\ldots, a_n>$\n",
    "\n",
    "Output: $A'[1..n] = <a'_1,a'_2\\ldots, a'_n> : a'_1\\leq a'_2 \\leq \\ldots \\leq  a'_n$"
   ]
  },
  {
   "cell_type": "markdown",
   "metadata": {},
   "source": [
    "<h3> Ordenamiento por inserción </h3>"
   ]
  },
  {
   "cell_type": "code",
   "execution_count": 3,
   "metadata": {
    "collapsed": true
   },
   "outputs": [],
   "source": [
    "def insertion_sort(A):\n",
    "    j = 1\n",
    "    while j < len(A):\n",
    "        key = A[j]\n",
    "        i = j - 1\n",
    "        while (i >= 0) and (A[i] > key):\n",
    "            A[i + 1] = A[i]\n",
    "            i = i -1\n",
    "        A[i + 1] = key\n",
    "        j = j + 1"
   ]
  },
  {
   "cell_type": "code",
   "execution_count": 4,
   "metadata": {
    "collapsed": false
   },
   "outputs": [
    {
     "name": "stdout",
     "output_type": "stream",
     "text": [
      "[4 1 0 8 3 7 5 6 9 2]\n",
      "[0 1 2 3 4 5 6 7 8 9]\n"
     ]
    }
   ],
   "source": [
    "B = np.random.permutation(range(0,10))\n",
    "print B\n",
    "insertion_sort(B)\n",
    "print B"
   ]
  },
  {
   "cell_type": "markdown",
   "metadata": {},
   "source": [
    "<h4>Correctitud</h4>\n",
    "\n",
    "<b>Invariante:</b> Al comienzo de cada iteración del ciclo externo el subarreglo $A[0..j-1]$ consiste de los elementos originalmente en $A[0..j-1]$ pero ordenados."
   ]
  },
  {
   "cell_type": "code",
   "execution_count": 5,
   "metadata": {
    "collapsed": true
   },
   "outputs": [],
   "source": [
    "def invariant(A, original_A):\n",
    "    l1 = list(A)\n",
    "    l2 = list(original_A)\n",
    "    l2.sort()\n",
    "    return l1 == l2"
   ]
  },
  {
   "cell_type": "code",
   "execution_count": 6,
   "metadata": {
    "collapsed": false
   },
   "outputs": [
    {
     "name": "stdout",
     "output_type": "stream",
     "text": [
      "True\n",
      "False\n"
     ]
    }
   ],
   "source": [
    "print invariant([1, 2, 3, 4], [4, 3, 2, 1])\n",
    "print invariant([1, 2, 3, 4], [5, 3, 2, 1])"
   ]
  },
  {
   "cell_type": "markdown",
   "metadata": {},
   "source": [
    "Algoritmo de ordenamiento por inserción incluyendo evaluación de la invariante (inicialización, mantenimiento, terminación)"
   ]
  },
  {
   "cell_type": "code",
   "execution_count": 7,
   "metadata": {
    "collapsed": true
   },
   "outputs": [],
   "source": [
    "def right_insertion_sort(A):\n",
    "    original_A = list(A)\n",
    "    j = 1\n",
    "    assert invariant(A[0:j], original_A[0:j])\n",
    "    while j < len(A):\n",
    "        assert invariant(A[0:j], original_A[0:j])\n",
    "        key = A[j]\n",
    "        i = j - 1\n",
    "        while (i >= 0) and (A[i] > key):\n",
    "            A[i + 1] = A[i]\n",
    "            i = i -1        \n",
    "        A[i + 1] = key\n",
    "        j = j + 1\n",
    "    assert invariant(A[0:j], original_A[0:j])"
   ]
  },
  {
   "cell_type": "code",
   "execution_count": 8,
   "metadata": {
    "collapsed": false
   },
   "outputs": [
    {
     "name": "stdout",
     "output_type": "stream",
     "text": [
      "[1, 2, 3, 4, 5, 6, 7, 8, 9]\n"
     ]
    }
   ],
   "source": [
    "B = [5, 4, 6, 3, 7, 2, 8, 1, 9]\n",
    "right_insertion_sort(B)\n",
    "print B"
   ]
  },
  {
   "cell_type": "markdown",
   "metadata": {},
   "source": [
    "La siguiente función incluye un error, por lo tanto la aserción para comprobar el invariante de ciclo falla. Esto genera una excepción que es capturada para imprimir un mensaje y el estado de las variables."
   ]
  },
  {
   "cell_type": "code",
   "execution_count": 9,
   "metadata": {
    "collapsed": true
   },
   "outputs": [],
   "source": [
    "def wrong_insertion_sort(A):\n",
    "    original_A = list(A)\n",
    "    j = 1\n",
    "    try:\n",
    "        assert invariant(A[0:j], original_A[0:j])\n",
    "        while j < len(A):\n",
    "            assert invariant(A[0:j], original_A[0:j])\n",
    "            key = A[j]\n",
    "            i = j - 1\n",
    "            while (i >= 0) and (A[i] < key):\n",
    "                A[i + 1] = A[i]\n",
    "                i = i - 1        \n",
    "            A[i + 1] = key\n",
    "            j = j + 1\n",
    "        assert invariant(A[0:j], original_A[0:j])\n",
    "    except  AssertionError:\n",
    "        print \"Error en el invariante de ciclo!\"\n",
    "        print \"j=\", j\n",
    "        print \"i=\", i\n",
    "        print \"A=\", A\n",
    "        print \"Original A=\", original_A"
   ]
  },
  {
   "cell_type": "code",
   "execution_count": 10,
   "metadata": {
    "collapsed": false
   },
   "outputs": [
    {
     "name": "stdout",
     "output_type": "stream",
     "text": [
      "Error en el invariante de ciclo!\n",
      "j= 2\n",
      "i= 0\n",
      "A= [5, 4, 6, 3, 7, 2, 8, 1, 9]\n",
      "Original A= [5, 4, 6, 3, 7, 2, 8, 1, 9]\n"
     ]
    }
   ],
   "source": [
    "B = [5, 4, 6, 3, 7, 2, 8, 1, 9]\n",
    "wrong_insertion_sort(B)"
   ]
  },
  {
   "cell_type": "markdown",
   "metadata": {},
   "source": [
    "<h4> Análisis del tiempo de ejecución</h4>"
   ]
  },
  {
   "cell_type": "code",
   "execution_count": 11,
   "metadata": {
    "collapsed": true
   },
   "outputs": [],
   "source": [
    "class Counter:\n",
    "    '''\n",
    "    Class Counter\n",
    "    Implements a step counter, which is used to compute the number of basic operations performed in\n",
    "    a particular call to a function.\n",
    "    '''\n",
    "    def __init__(self):\n",
    "        self.steps = 0\n",
    "\n",
    "    def reset(self):\n",
    "        self.steps = 0\n",
    "\n",
    "    def count(self):\n",
    "        self.steps += 1\n",
    "\n",
    "    def print_steps(self):\n",
    "        print \"Number of steps =\", self.steps\n",
    "        \n",
    "def acct_insertion_sort(A, acct):\n",
    "    j = 1; acct.count()\n",
    "    acct.count()\n",
    "    while j < len(A):\n",
    "        acct.count()\n",
    "        key = A[j]; acct.count()\n",
    "        i = j - 1; acct.count()\n",
    "        acct.count()\n",
    "        while (i >= 0) and (A[i] > key):\n",
    "            acct.count()\n",
    "            A[i + 1] = A[i]; acct.count()\n",
    "            i = i -1; acct.count()\n",
    "        A[i + 1] = key; acct.count()\n",
    "        j = j + 1; acct.count()"
   ]
  },
  {
   "cell_type": "code",
   "execution_count": 12,
   "metadata": {
    "collapsed": false
   },
   "outputs": [
    {
     "name": "stdout",
     "output_type": "stream",
     "text": [
      "Number of steps = 104\n"
     ]
    }
   ],
   "source": [
    "B = np.random.permutation(range(0,10))\n",
    "acct = Counter()\n",
    "acct_insertion_sort(B, acct)\n",
    "acct.print_steps()"
   ]
  },
  {
   "cell_type": "markdown",
   "metadata": {},
   "source": [
    "<h4>Análisis experimental</h4>\n",
    "Ahora vamos a analizar el comportamiento del algoritmo cuando el tamaño de la entrada varía. La siguiente función genera arreglos al azar de tamaño 1 a n, llama la función acct_insertion_sort(l, acct) y contabiliza el número de pasos."
   ]
  },
  {
   "cell_type": "code",
   "execution_count": 13,
   "metadata": {
    "collapsed": true
   },
   "outputs": [],
   "source": [
    "import random as rnd\n",
    "\n",
    "def exper_analysis(n):\n",
    "    results = []\n",
    "    acct = Counter()\n",
    "    for i in range(n):\n",
    "        l = range(i)\n",
    "        rnd.shuffle(l)\n",
    "        acct.reset()\n",
    "        acct_insertion_sort(l, acct)\n",
    "        results.append(acct.steps)\n",
    "    return results"
   ]
  },
  {
   "cell_type": "code",
   "execution_count": 14,
   "metadata": {
    "collapsed": false
   },
   "outputs": [
    {
     "name": "stdout",
     "output_type": "stream",
     "text": [
      "[2, 2, 8, 20, 26, 35, 53, 83, 92, 104]\n"
     ]
    }
   ],
   "source": [
    "print exper_analysis(10)"
   ]
  },
  {
   "cell_type": "code",
   "execution_count": 15,
   "metadata": {
    "collapsed": false
   },
   "outputs": [
    {
     "data": {
      "text/plain": [
       "[<matplotlib.lines.Line2D at 0x10d47d590>]"
      ]
     },
     "execution_count": 15,
     "metadata": {},
     "output_type": "execute_result"
    },
    {
     "data": {
      "image/png": "[encoded data removed]",
      "text/plain": [
       "<matplotlib.figure.Figure at 0x10b027390>"
      ]
     },
     "metadata": {},
     "output_type": "display_data"
    }
   ],
   "source": [
    "pl.clf()\n",
    "x = np.arange(100)\n",
    "y = np.array(exper_analysis(100))\n",
    "pl.plot(x, y, 'k.')"
   ]
  },
  {
   "cell_type": "markdown",
   "metadata": {},
   "source": [
    "<h1>Actividad</h1>\n",
    " <ol>\n",
    "  <li>En una sola gráfica represente el número de operaciones, tiempo y T(n) que el algoritmo de ordenamiento por inserción requiere para ordenar arreglos de tamaño n (varie n) en el peor de los casos.</li>\n",
    "  <li>Replique los ejercicios realizados en este taller para el algoritmo de ordenamiento por mezclas (merge sort)</li>\n",
    "  <li>Replique los ejercicios realizados en este taller para el algoritmo de ordenamiento quick-sort</li>\n",
    "</ol> "
   ]
  },
  {
   "cell_type": "code",
   "execution_count": 16,
   "metadata": {
    "collapsed": false
   },
   "outputs": [],
   "source": [
    "import random as rnd\n",
    "import time\n",
    "def exper_analysis2(n):\n",
    "    results = []\n",
    "    acct = Counter()\n",
    "    for i in range(n):\n",
    "        l = range(i)\n",
    "        rnd.shuffle(l)\n",
    "        tic = time.clock()\n",
    "        right_insertion_sort(l)\n",
    "        toc = time.clock()\n",
    "        results.append((toc-tic)*1e6)\n",
    "    return results"
   ]
  },
  {
   "cell_type": "code",
   "execution_count": 17,
   "metadata": {
    "collapsed": false
   },
   "outputs": [
    {
     "name": "stdout",
     "output_type": "stream",
     "text": [
      "[9.999999999621423, 8.000000000230045, 11.999999999900979, 16.000000000016, 20.999999999826713, 26.000000000081513, 37.99999999998249, 40.00000000026205, 43.99999999993298, 51.00000000002325]\n"
     ]
    }
   ],
   "source": [
    "print exper_analysis2(10)"
   ]
  },
  {
   "cell_type": "code",
   "execution_count": 18,
   "metadata": {
    "collapsed": true
   },
   "outputs": [],
   "source": [
    "def exper_analysis_T(n):\n",
    "    results = []\n",
    "    for i in range(n):\n",
    "        results.append(i*i)\n",
    "    return results"
   ]
  },
  {
   "cell_type": "markdown",
   "metadata": {},
   "source": [
    "<h3>Tabbla Tiempo Terico, Numero Comparaciones y Tiempo Ejecució VS Numero de Entradas </h3>"
   ]
  },
  {
   "cell_type": "code",
   "execution_count": 19,
   "metadata": {
    "collapsed": false
   },
   "outputs": [
    {
     "data": {
      "image/png": "[encoded data removed]",
      "text/plain": [
       "<matplotlib.figure.Figure at 0x10d418fd0>"
      ]
     },
     "metadata": {},
     "output_type": "display_data"
    }
   ],
   "source": [
    "pl.clf()\n",
    "x = np.arange(100)\n",
    "y1 = np.array(exper_analysis2(100)) #Time\n",
    "y2 = np.array(exper_analysis(100)) # Number of Operations\n",
    "y3 = np.array(exper_analysis_T(100)) # T(n) = n^2\n",
    "pl.plot(x, y1, 'bs', x, y2, '.k', x,y3,'g^')\n",
    "pl.show()"
   ]
  },
  {
   "cell_type": "markdown",
   "metadata": {},
   "source": [
    "<h1>Merge Sort Analysis</h1>"
   ]
  },
  {
   "cell_type": "markdown",
   "metadata": {},
   "source": [
    "<h2>Merge Sort Algorithm</h2>"
   ]
  },
  {
   "cell_type": "code",
   "execution_count": 20,
   "metadata": {
    "collapsed": false
   },
   "outputs": [],
   "source": [
    "def merge(a, aux, lo, mid, hi):\n",
    "    for k in range(lo, hi + 1):\n",
    "        aux[k] = a[k]\n",
    "    i = lo\n",
    "    j = mid + 1\n",
    "    for k in range(lo, hi + 1):\n",
    "        if (i > mid): \n",
    "            a[k] = aux[j]\n",
    "            j+=1\n",
    "        elif (j > hi):\n",
    "            a[k] = aux[i]\n",
    "            i+=1\n",
    "        elif (aux[j] < aux[i]):\n",
    "            a[k] = aux[j]\n",
    "            j+=1\n",
    "        else:\n",
    "            a[k] = aux[i]\n",
    "            i+=1\n",
    "def sort(a, aux, lo, hi):\n",
    "    if (hi <= lo):\n",
    "        return\n",
    "    mid = lo + (hi - lo) / 2\n",
    "    sort(a, aux, lo, mid)\n",
    "    sort(a, aux, mid+1, hi)\n",
    "    merge(a, aux, lo, mid, hi)\n",
    "def mergeSort(a):\n",
    "    aux = [None] * len(a)\n",
    "    sort(a, aux, 0, len(a) - 1)"
   ]
  },
  {
   "cell_type": "code",
   "execution_count": 21,
   "metadata": {
    "collapsed": false
   },
   "outputs": [
    {
     "name": "stdout",
     "output_type": "stream",
     "text": [
      "[3 4 2 6 0 1 5 9 7 8]\n",
      "[0 1 2 3 4 5 6 7 8 9]\n"
     ]
    }
   ],
   "source": [
    "B = np.random.permutation(range(0,10))\n",
    "print B\n",
    "insertion_sort(B)\n",
    "print B"
   ]
  },
  {
   "cell_type": "markdown",
   "metadata": {},
   "source": [
    "<h2>Correctitud</h2>\n",
    "\n",
    "<b>Invariante:</b> Al comienzo de cada merge el arreglo $A[lo..mid]$ esta ordenado y $A[mid+1..hi]$ también esta ordenado."
   ]
  },
  {
   "cell_type": "code",
   "execution_count": 22,
   "metadata": {
    "collapsed": false
   },
   "outputs": [],
   "source": [
    "def mergeInvariant(A, B):\n",
    "    l1 = list(A)\n",
    "    l2 = list(B)\n",
    "    l1.sort()\n",
    "    l2.sort()\n",
    "    return (A == l1) and (B == l2)"
   ]
  },
  {
   "cell_type": "code",
   "execution_count": 23,
   "metadata": {
    "collapsed": false
   },
   "outputs": [
    {
     "name": "stdout",
     "output_type": "stream",
     "text": [
      "False\n",
      "True\n"
     ]
    }
   ],
   "source": [
    "print mergeInvariant([1, 2, 3, 4], [4, 3, 2, 1])\n",
    "print mergeInvariant([1, 2, 3, 4], [6, 7, 8, 9])"
   ]
  },
  {
   "cell_type": "code",
   "execution_count": 24,
   "metadata": {
    "collapsed": true
   },
   "outputs": [],
   "source": [
    "def mergeWithInvariant(a, aux, lo, mid, hi):\n",
    "    try:\n",
    "        assert mergeInvariant(a[lo:mid], a[mid+1:hi])\n",
    "    except AssertionError:\n",
    "        print \"Error en el invariante en Merge!\"\n",
    "        print \"Arreglo de lo a mid es: \", a[lo:mid]\n",
    "        print \"Arreglo de mid + 1 a hi es: \", a[mid+1:hi]\n",
    "        \n",
    "    for k in range(lo, hi + 1):\n",
    "        aux[k] = a[k]\n",
    "    i = lo\n",
    "    j = mid + 1\n",
    "    for k in range(lo, hi + 1):\n",
    "        if (i > mid): \n",
    "            a[k] = aux[j]\n",
    "            j+=1\n",
    "        elif (j > hi):\n",
    "            a[k] = aux[i]\n",
    "            i+=1\n",
    "        elif (aux[j] < aux[i]):\n",
    "            a[k] = aux[j]\n",
    "            j+=1\n",
    "        else:\n",
    "            a[k] = aux[i]\n",
    "            i+=1\n",
    "\n",
    "def rightMergeSortHelp(a, aux, lo, hi):\n",
    "    if (hi <= lo):\n",
    "        return\n",
    "    mid = lo + (hi - lo) / 2\n",
    "    sort(a, aux, lo, mid)\n",
    "    sort(a, aux, mid+1, hi)\n",
    "    mergeWithInvariant(a, aux, lo, mid, hi)\n",
    "def rightMergeSort(a):\n",
    "    aux = [None] * len(a)\n",
    "    rightMergeSortHelp(a, aux, 0, len(a) - 1)"
   ]
  },
  {
   "cell_type": "code",
   "execution_count": 25,
   "metadata": {
    "collapsed": false
   },
   "outputs": [
    {
     "name": "stdout",
     "output_type": "stream",
     "text": [
      "[1, 2, 3, 4, 5, 6, 7, 8, 9]\n"
     ]
    }
   ],
   "source": [
    "B = [5, 4, 6, 3, 7, 2, 8, 1, 9]\n",
    "rightMergeSort(B)\n",
    "print B"
   ]
  },
  {
   "cell_type": "code",
   "execution_count": 26,
   "metadata": {
    "collapsed": false
   },
   "outputs": [],
   "source": [
    "def wrongMergeSortHelp(a, aux, lo, hi):\n",
    "    if (hi <= lo):\n",
    "        return\n",
    "    mid = lo + (hi - lo) / 2\n",
    "    sort(a, aux, lo, mid)\n",
    "    mergeWithInvariant(a, aux, lo, mid, hi)\n",
    "    #sort(a, aux, mid+1, hi)\n",
    "    \n",
    "        \n",
    "def wrongMergeSort(a):\n",
    "    aux = [None] * len(a)\n",
    "    wrongMergeSortHelp(a, aux, 0, len(a) - 1)"
   ]
  },
  {
   "cell_type": "code",
   "execution_count": 27,
   "metadata": {
    "collapsed": false
   },
   "outputs": [
    {
     "name": "stdout",
     "output_type": "stream",
     "text": [
      "Error en el invariante en Merge!\n",
      "Arreglo de lo a mid es:  [3, 4, 5, 6]\n",
      "Arreglo de mid + 1 a hi es:  [2, 8, 1]\n",
      "[2, 3, 4, 5, 6, 7, 8, 1, 9]\n"
     ]
    }
   ],
   "source": [
    "B = [5, 4, 6, 3, 7, 2, 8, 1, 9]\n",
    "wrongMergeSort(B)\n",
    "print B"
   ]
  },
  {
   "cell_type": "markdown",
   "metadata": {},
   "source": [
    "<h2> Análisis del Complejidad</h2>\n",
    "<h3> Numero de Comparaciones</h3>"
   ]
  },
  {
   "cell_type": "code",
   "execution_count": 28,
   "metadata": {
    "collapsed": true
   },
   "outputs": [],
   "source": [
    "def acct_merge(a, aux, lo, mid, hi, acct):\n",
    "    for k in range(lo, hi + 1):\n",
    "        aux[k] = a[k]\n",
    "    i = lo\n",
    "    j = mid + 1\n",
    "    for k in range(lo, hi + 1):\n",
    "        if (i > mid): \n",
    "            acct.count()\n",
    "            a[k] = aux[j]\n",
    "            j+=1\n",
    "        elif (j > hi):\n",
    "            acct.count()\n",
    "            a[k] = aux[i]\n",
    "            i+=1\n",
    "        elif (aux[j] < aux[i]):\n",
    "            acct.count()\n",
    "            a[k] = aux[j]\n",
    "            j+=1\n",
    "        else:\n",
    "            a[k] = aux[i]\n",
    "            i+=1\n",
    "def acct_sort(a, aux, lo, hi, acct):\n",
    "    ##acct.count()\n",
    "    if (hi <= lo):\n",
    "        return\n",
    "    mid = lo + (hi - lo) / 2\n",
    "    acct_sort(a, aux, lo, mid, acct)\n",
    "    acct_sort(a, aux, mid+1, hi, acct)\n",
    "    acct_merge(a, aux, lo, mid, hi, acct)\n",
    "def acct_mergeSort(a, acct):\n",
    "    aux = [None] * len(a)\n",
    "    acct_sort(a, aux, 0, len(a) - 1,  acct)"
   ]
  },
  {
   "cell_type": "code",
   "execution_count": 29,
   "metadata": {
    "collapsed": false
   },
   "outputs": [
    {
     "name": "stdout",
     "output_type": "stream",
     "text": [
      "Number of steps = 404\n"
     ]
    }
   ],
   "source": [
    "B = np.random.permutation(range(0,100))\n",
    "acct = Counter()\n",
    "acct_mergeSort(B, acct)\n",
    "acct.print_steps()"
   ]
  },
  {
   "cell_type": "markdown",
   "metadata": {},
   "source": [
    "<p>La siguiente funcion mide el numero de comparaciones que toma ordenar un arreglo de tamaño $0$ a $N$  con Merge Sort</p>"
   ]
  },
  {
   "cell_type": "code",
   "execution_count": 30,
   "metadata": {
    "collapsed": true
   },
   "outputs": [],
   "source": [
    "import random as rnd\n",
    "\n",
    "def merge_exper_analysis(n):\n",
    "    results = []\n",
    "    acct = Counter()\n",
    "    for i in range(n):\n",
    "        l = range(i)\n",
    "        rnd.shuffle(l)\n",
    "        acct.reset()\n",
    "        acct_mergeSort(l, acct)\n",
    "        results.append(acct.steps)\n",
    "    return results"
   ]
  },
  {
   "cell_type": "code",
   "execution_count": 31,
   "metadata": {
    "collapsed": false
   },
   "outputs": [
    {
     "name": "stdout",
     "output_type": "stream",
     "text": [
      "[0, 0, 1, 4, 4, 7, 9, 12, 17, 19]\n"
     ]
    }
   ],
   "source": [
    "print merge_exper_analysis(10)"
   ]
  },
  {
   "cell_type": "markdown",
   "metadata": {},
   "source": [
    "<h3>Análisis de Tiempo</h3>\n",
    "<p>La siguiente funcion mide el numero de segundos que toma ordenar un arreglo de tamaño $0$ a $N$  con Merge Sort</p>"
   ]
  },
  {
   "cell_type": "code",
   "execution_count": 32,
   "metadata": {
    "collapsed": true
   },
   "outputs": [],
   "source": [
    "import time\n",
    "import random as rnd\n",
    "\n",
    "def merege_time_analysis(n):\n",
    "    results = []\n",
    "    for i in range(n):\n",
    "        l = range(i)\n",
    "        rnd.shuffle(l)\n",
    "        tic = time.clock()#get start time\n",
    "        mergeSort(l)\n",
    "        toc = time.clock()#get final time\n",
    "        results.append(format((toc - tic) * 1e5, '.6'))\n",
    "    return results"
   ]
  },
  {
   "cell_type": "code",
   "execution_count": 33,
   "metadata": {
    "collapsed": false
   },
   "outputs": [
    {
     "name": "stdout",
     "output_type": "stream",
     "text": [
      "['0.8', '0.2', '0.8', '1.1', '1.5', '2.1', '2.7', '3.1', '3.7', '4.4']\n"
     ]
    }
   ],
   "source": [
    "print merege_time_analysis(10)"
   ]
  },
  {
   "cell_type": "markdown",
   "metadata": {},
   "source": [
    "<h3>Tiempo Teorico</h3>\n",
    "<p>La siguinete funcion calcula el tiempo teorico de Merge Sort para arreglos de tamaño $0$ a $i$. La función del tiempo teorico de Merge Sort es $Nlog_2 N$</p>"
   ]
  },
  {
   "cell_type": "code",
   "execution_count": 34,
   "metadata": {
    "collapsed": true
   },
   "outputs": [],
   "source": [
    "import math\n",
    "def nlogn(n):\n",
    "    results = []\n",
    "    for i in range(n):\n",
    "        if i > 0:\n",
    "            results.append(i * math.log(i, 2))\n",
    "        else:\n",
    "            results.append(0)\n",
    "    return results"
   ]
  },
  {
   "cell_type": "code",
   "execution_count": 35,
   "metadata": {
    "collapsed": false
   },
   "outputs": [
    {
     "name": "stdout",
     "output_type": "stream",
     "text": [
      "[0, 0.0, 2.0, 4.754887502163469, 8.0, 11.60964047443681, 15.509775004326936, 19.651484454403228, 24.0, 28.529325012980813]\n"
     ]
    }
   ],
   "source": [
    "print nlogn(10)"
   ]
  },
  {
   "cell_type": "markdown",
   "metadata": {},
   "source": [
    "<h3>Tabbla Tiempo Terico, Numero Comparaciones y Tiempo Ejecució VS Numero de Entradas </h3>"
   ]
  },
  {
   "cell_type": "code",
   "execution_count": 36,
   "metadata": {
    "collapsed": false
   },
   "outputs": [
    {
     "data": {
      "image/png": "[encoded data removed]",
      "text/plain": [
       "<matplotlib.figure.Figure at 0x10d4e46d0>"
      ]
     },
     "metadata": {},
     "output_type": "display_data"
    }
   ],
   "source": [
    "pl.clf()\n",
    "x = np.arange(100)\n",
    "y1 = np.array(merege_time_analysis(100)) # Tiempo\n",
    "y2 = np.array(merge_exper_analysis(100)) # Numero Comparaciones\n",
    "y3 = np.array(nlogn(100)) # Teorico\n",
    "pl.plot(x, y1, 'bs', x, y2, '.k', x, y3, 'g^')\n",
    "pl.show()"
   ]
  },
  {
   "cell_type": "markdown",
   "metadata": {},
   "source": [
    "<h1>Quick Sort Analysis</h1>\n",
    "<h2>Algotithm of Quick Sort</h2>"
   ]
  },
  {
   "cell_type": "code",
   "execution_count": 37,
   "metadata": {
    "collapsed": false
   },
   "outputs": [],
   "source": [
    "def quickSort(alist):\n",
    "    rnd.shuffle(alist)\n",
    "    quickSortHelper(alist,0,len(alist)-1)\n",
    "\n",
    "def quickSortHelper(alist,first,last):\n",
    "    if first<last:\n",
    "        splitpoint = partition(alist,first,last)\n",
    "        quickSortHelper(alist,first,splitpoint-1)\n",
    "        quickSortHelper(alist,splitpoint+1,last)\n",
    "\n",
    "\n",
    "def partition(alist,first,last):\n",
    "    pivotvalue = alist[first]\n",
    "\n",
    "\n",
    "    leftmark = first+1\n",
    "    rightmark = last\n",
    "    \n",
    "    done = False\n",
    "    while not done:\n",
    "        \n",
    "    \n",
    "        while leftmark <= rightmark and alist[leftmark] <= pivotvalue:\n",
    "            leftmark = leftmark + 1\n",
    "\n",
    "        while alist[rightmark] >= pivotvalue and rightmark >= leftmark:\n",
    "            rightmark = rightmark -1\n",
    "\n",
    "        if rightmark < leftmark:\n",
    "            done = True\n",
    "        else:\n",
    "            temp = alist[leftmark]\n",
    "            alist[leftmark] = alist[rightmark]\n",
    "            alist[rightmark] = temp\n",
    "\n",
    "\n",
    "    temp = alist[first]\n",
    "    alist[first] = alist[rightmark]\n",
    "    alist[rightmark] = temp\n",
    "    assert quick_invariant(alist, rightmark,leftmark,pivotvalue)\n",
    "\n",
    "    return rightmark"
   ]
  },
  {
   "cell_type": "markdown",
   "metadata": {},
   "source": [
    "<h2>Correctitud</h2>\n",
    "<h3>Invariante</h3>\n",
    "<p>Partir el arreglo en una posiscion $i$ $j$ de manera que: </p>\n",
    "<ul> \n",
    "    <li>No hay elemento mayor a $A[j]$ en las posiciones mayores a $j$</li>\n",
    "    <li>No hay elemento menor a $A[i]$ en las posiciones menores a $i$</li>\n",
    "</ul>"
   ]
  },
  {
   "cell_type": "code",
   "execution_count": 38,
   "metadata": {
    "collapsed": false
   },
   "outputs": [],
   "source": [
    "def contains_less_pivot(l, pivot):\n",
    "    i = 1\n",
    "    while i < len(l):\n",
    "        if (l[i] > pivot ):\n",
    "            return False\n",
    "        i += 1\n",
    "    return True\n",
    "        \n",
    "def quick_invariant(A, i, j, pivot):\n",
    "    l = A[0:i]\n",
    "    k = A[j: len(A) - 1]\n",
    "    \n",
    "    if (len(l) > 1):\n",
    "        if not contains_less_pivot(l,pivot):\n",
    "            return False\n",
    "    if (len(k) > 1):\n",
    "        if contains_less_pivot(k,pivot):\n",
    "            return False\n",
    "    return True"
   ]
  },
  {
   "cell_type": "code",
   "execution_count": 39,
   "metadata": {
    "collapsed": false
   },
   "outputs": [
    {
     "name": "stdout",
     "output_type": "stream",
     "text": [
      "[0 7 2 3 4 6 5 9 1 8]\n",
      "[0 1 2 3 4 5 6 7 8 9]\n"
     ]
    }
   ],
   "source": [
    "B = np.random.permutation(range(0,10))\n",
    "print B\n",
    "quickSort(B)\n",
    "print B"
   ]
  },
  {
   "cell_type": "markdown",
   "metadata": {},
   "source": [
    "<h2>Análisis de Complejidad</h2>\n",
    "<h3> Numero de Comparaciones</h3>"
   ]
  },
  {
   "cell_type": "code",
   "execution_count": 40,
   "metadata": {
    "collapsed": true
   },
   "outputs": [],
   "source": [
    "def acct_quickSort(alist, acct):\n",
    "    rnd.shuffle(alist)\n",
    "    acct_quickSortHelper(alist,0,len(alist)-1, acct)\n",
    "\n",
    "def acct_quickSortHelper(alist,first,last, acct):\n",
    "    if first<last:\n",
    "        acct.count()\n",
    "        splitpoint = acct_partition(alist,first,last, acct)\n",
    "        acct_quickSortHelper(alist,first,splitpoint-1, acct)\n",
    "        acct_quickSortHelper(alist,splitpoint+1,last, acct)\n",
    "\n",
    "\n",
    "def acct_partition(alist,first,last, acct):\n",
    "    pivotvalue = alist[first]\n",
    "\n",
    "\n",
    "    leftmark = first+1\n",
    "    rightmark = last\n",
    "    \n",
    "    done = False\n",
    "    while not done:\n",
    "    \n",
    "        while leftmark <= rightmark and alist[leftmark] <= pivotvalue:\n",
    "            leftmark = leftmark + 1\n",
    "            acct.count()\n",
    "\n",
    "        while alist[rightmark] >= pivotvalue and rightmark >= leftmark:\n",
    "            rightmark = rightmark -1\n",
    "            acct.count()\n",
    "\n",
    "        if rightmark < leftmark:\n",
    "            done = True\n",
    "        else:\n",
    "            temp = alist[leftmark]\n",
    "            alist[leftmark] = alist[rightmark]\n",
    "            alist[rightmark] = temp\n",
    "\n",
    "\n",
    "    temp = alist[first]\n",
    "    alist[first] = alist[rightmark]\n",
    "    alist[rightmark] = temp\n",
    "    assert quick_invariant(alist, rightmark,leftmark,pivotvalue)\n",
    "\n",
    "    return rightmark"
   ]
  },
  {
   "cell_type": "markdown",
   "metadata": {},
   "source": [
    "<p>La siguiente funcion mide el numero de comparaciones que toma ordenar un arreglo de tamaño $0$ a $N$  con Quick Sort</p>"
   ]
  },
  {
   "cell_type": "code",
   "execution_count": 51,
   "metadata": {
    "collapsed": false
   },
   "outputs": [],
   "source": [
    "import random as rnd\n",
    "\n",
    "def quick_exper_analysis(n):\n",
    "    results = []\n",
    "    acct = Counter()\n",
    "    for i in range(n):\n",
    "        l = range(i)\n",
    "        rnd.shuffle(l)\n",
    "        acct.reset()\n",
    "        acct_quickSort(l, acct)\n",
    "        results.append(acct.steps * 1e1)\n",
    "    return results"
   ]
  },
  {
   "cell_type": "code",
   "execution_count": 42,
   "metadata": {
    "collapsed": false
   },
   "outputs": [
    {
     "name": "stdout",
     "output_type": "stream",
     "text": [
      "[0, 0, 2, 5, 6, 10, 15, 18, 19, 22]\n"
     ]
    }
   ],
   "source": [
    "print quick_exper_analysis(10)"
   ]
  },
  {
   "cell_type": "markdown",
   "metadata": {},
   "source": [
    "<h3>Tiempo de Ejecion</h3>\n",
    "<p>La siguiente funcion mide el numero de segundos que toma ordenar un arreglo de tamaño $0$ a $N$  con Quick Sort</p>"
   ]
  },
  {
   "cell_type": "code",
   "execution_count": 55,
   "metadata": {
    "collapsed": true
   },
   "outputs": [],
   "source": [
    "import random as rnd\n",
    "import time\n",
    "def quick_time_analysis(n):\n",
    "    results = []\n",
    "    for i in range(n):\n",
    "        l = range(i)\n",
    "        rnd.shuffle(l)\n",
    "        tic = time.clock()#get start time\n",
    "        quickSort(l)\n",
    "        toc = time.clock()#get final time\n",
    "        results.append(format((toc - tic) * 1e6, '.6'))\n",
    "    return results"
   ]
  },
  {
   "cell_type": "code",
   "execution_count": 44,
   "metadata": {
    "collapsed": false
   },
   "outputs": [
    {
     "name": "stdout",
     "output_type": "stream",
     "text": [
      "['0.8', '0.3', '1.0', '1.5', '3.4', '3.4', '4.1', '5.2', '6.6', '7.3']\n"
     ]
    }
   ],
   "source": [
    "print quick_time_analysis(10)"
   ]
  },
  {
   "cell_type": "markdown",
   "metadata": {},
   "source": [
    "<h3>Tabbla Tiempo Terico, Numero Comparaciones y Tiempo Ejecució VS Numero de Entradas </h3>"
   ]
  },
  {
   "cell_type": "code",
   "execution_count": 57,
   "metadata": {
    "collapsed": false
   },
   "outputs": [
    {
     "data": {
      "image/png": "[encoded data removed]",
      "text/plain": [
       "<matplotlib.figure.Figure at 0x10e138790>"
      ]
     },
     "metadata": {},
     "output_type": "display_data"
    }
   ],
   "source": [
    "pl.clf()\n",
    "x = np.arange(200)\n",
    "y1 = np.array(quick_time_analysis(200)) # Numero Comparaciones\n",
    "y2 = np.array(quick_exper_analysis(200)) # Numero Comparaciones\n",
    "y3 = np.array(exper_analysis_T(200)) # T(n) = n^2\n",
    "pl.plot(x, y1, 'bs', x, y2, '.k', x, y3, 'g^')\n",
    "pl.show()"
   ]
  }
 ],
 "metadata": {
  "anaconda-cloud": {},
  "kernelspec": {
   "display_name": "Python [default]",
   "language": "python",
   "name": "python2"
  },
  "language_info": {
   "codemirror_mode": {
    "name": "ipython",
    "version": 2
   },
   "file_extension": ".py",
   "mimetype": "text/x-python",
   "name": "python",
   "nbconvert_exporter": "python",
   "pygments_lexer": "ipython2",
   "version": "2.7.12"
  }
 },
 "nbformat": 4,
 "nbformat_minor": 0
}
